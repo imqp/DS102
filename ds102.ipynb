{
  "metadata": {
    "kernelspec": {
      "display_name": "Python 3",
      "name": "python3"
    },
    "language_info": {
      "name": "python",
      "version": "3.10.12",
      "mimetype": "text/x-python",
      "codemirror_mode": {
        "name": "ipython",
        "version": 3
      },
      "pygments_lexer": "ipython3",
      "nbconvert_exporter": "python",
      "file_extension": ".py"
    },
    "kaggle": {
      "accelerator": "nvidiaTeslaT4",
      "dataSources": [],
      "dockerImageVersionId": 30627,
      "isInternetEnabled": true,
      "language": "python",
      "sourceType": "notebook",
      "isGpuEnabled": true
    },
    "colab": {
      "provenance": [],
      "machine_shape": "hm"
    }
  },
  "nbformat_minor": 0,
  "nbformat": 4,
  "cells": [
    {
      "cell_type": "markdown",
      "source": [
        "# Import dependencies"
      ],
      "metadata": {
        "id": "XO9C2NkmlNYO"
      }
    },
    {
      "cell_type": "code",
      "source": [
        "import os\n",
        "import pandas as pd\n",
        "import numpy as np\n",
        "\n",
        "from sklearn.preprocessing import LabelEncoder\n",
        "\n",
        "\n",
        "from sklearn.ensemble import RandomForestClassifier\n",
        "from sklearn.neighbors import KNeighborsClassifier\n",
        "from sklearn.linear_model import SGDClassifier\n",
        "\n",
        "from sklearn.model_selection import GridSearchCV\n",
        "from sklearn.ensemble import VotingClassifier"
      ],
      "metadata": {
        "id": "C-ly9FYPlQNp"
      },
      "execution_count": 3,
      "outputs": []
    },
    {
      "cell_type": "code",
      "source": [
        "# !pip install gdown"
      ],
      "metadata": {
        "execution": {
          "iopub.status.busy": "2024-01-01T08:35:04.865164Z",
          "iopub.execute_input": "2024-01-01T08:35:04.865473Z",
          "iopub.status.idle": "2024-01-01T08:35:18.076074Z",
          "shell.execute_reply.started": "2024-01-01T08:35:04.865425Z",
          "shell.execute_reply": "2024-01-01T08:35:18.075016Z"
        },
        "collapsed": true,
        "jupyter": {
          "outputs_hidden": true
        },
        "trusted": true,
        "id": "4WPM8KRZibY_"
      },
      "execution_count": 4,
      "outputs": []
    },
    {
      "cell_type": "markdown",
      "source": [
        "# Download and import dataset"
      ],
      "metadata": {
        "id": "Rn8Z3FxylwSJ"
      }
    },
    {
      "cell_type": "code",
      "source": [
        "! gdown 1G93DGgD2Xw58be5PNOGT8HB_YSWrWll7"
      ],
      "metadata": {
        "execution": {
          "iopub.status.busy": "2024-01-01T08:35:18.077759Z",
          "iopub.execute_input": "2024-01-01T08:35:18.078053Z",
          "iopub.status.idle": "2024-01-01T08:35:28.334383Z",
          "shell.execute_reply.started": "2024-01-01T08:35:18.078029Z",
          "shell.execute_reply": "2024-01-01T08:35:28.333458Z"
        },
        "collapsed": true,
        "jupyter": {
          "outputs_hidden": true
        },
        "trusted": true,
        "colab": {
          "base_uri": "https://localhost:8080/"
        },
        "id": "N1aHCzLiibZB",
        "outputId": "2543781a-a47c-4ce0-b5cd-2a3b8af6f485"
      },
      "execution_count": 5,
      "outputs": [
        {
          "output_type": "stream",
          "name": "stdout",
          "text": [
            "Downloading...\n",
            "From: https://drive.google.com/uc?id=1G93DGgD2Xw58be5PNOGT8HB_YSWrWll7\n",
            "To: /content/train_data (4).csv\n",
            "100% 1.04G/1.04G [00:10<00:00, 95.8MB/s]\n"
          ]
        }
      ]
    },
    {
      "cell_type": "code",
      "source": [
        "! gdown 1Ku1_9Y7zQaDmYv8jdDVAtD289cIrGuon"
      ],
      "metadata": {
        "execution": {
          "iopub.status.busy": "2024-01-01T08:35:28.335569Z",
          "iopub.execute_input": "2024-01-01T08:35:28.335837Z",
          "iopub.status.idle": "2024-01-01T08:35:32.222106Z",
          "shell.execute_reply.started": "2024-01-01T08:35:28.335805Z",
          "shell.execute_reply": "2024-01-01T08:35:32.220957Z"
        },
        "collapsed": true,
        "jupyter": {
          "outputs_hidden": true
        },
        "trusted": true,
        "colab": {
          "base_uri": "https://localhost:8080/"
        },
        "id": "P6jcauhKibZC",
        "outputId": "813a6fca-1f17-489a-bd32-c7062c8b144c"
      },
      "execution_count": 6,
      "outputs": [
        {
          "output_type": "stream",
          "name": "stdout",
          "text": [
            "Downloading...\n",
            "From: https://drive.google.com/uc?id=1Ku1_9Y7zQaDmYv8jdDVAtD289cIrGuon\n",
            "To: /content/test_data_flatten.csv\n",
            "100% 116M/116M [00:02<00:00, 44.1MB/s]\n"
          ]
        }
      ]
    },
    {
      "cell_type": "code",
      "source": [
        "! mv 'train_data (4).csv' 'train_data.csv'"
      ],
      "metadata": {
        "execution": {
          "iopub.status.busy": "2024-01-01T08:35:32.225423Z",
          "iopub.execute_input": "2024-01-01T08:35:32.226315Z",
          "iopub.status.idle": "2024-01-01T08:35:33.270312Z",
          "shell.execute_reply.started": "2024-01-01T08:35:32.226274Z",
          "shell.execute_reply": "2024-01-01T08:35:33.269028Z"
        },
        "trusted": true,
        "id": "Vi9hcrc4ibZE"
      },
      "execution_count": 9,
      "outputs": []
    },
    {
      "cell_type": "code",
      "source": [
        "data = pd.read_csv('train_data.csv')"
      ],
      "metadata": {
        "execution": {
          "iopub.status.busy": "2024-01-01T08:35:33.636202Z",
          "iopub.execute_input": "2024-01-01T08:35:33.636657Z",
          "iopub.status.idle": "2024-01-01T08:37:25.698275Z",
          "shell.execute_reply.started": "2024-01-01T08:35:33.636627Z",
          "shell.execute_reply": "2024-01-01T08:37:25.697502Z"
        },
        "trusted": true,
        "id": "qQxb75wqibZG"
      },
      "execution_count": 10,
      "outputs": []
    },
    {
      "cell_type": "code",
      "source": [
        "data_test = pd.read_csv('test_data_flatten.csv')"
      ],
      "metadata": {
        "execution": {
          "iopub.status.busy": "2024-01-01T08:37:25.743666Z",
          "iopub.execute_input": "2024-01-01T08:37:25.743955Z",
          "iopub.status.idle": "2024-01-01T08:37:38.374237Z",
          "shell.execute_reply.started": "2024-01-01T08:37:25.743930Z",
          "shell.execute_reply": "2024-01-01T08:37:38.373342Z"
        },
        "trusted": true,
        "id": "8fH6hf-AibZH"
      },
      "execution_count": 8,
      "outputs": []
    },
    {
      "cell_type": "markdown",
      "source": [
        "## Training set"
      ],
      "metadata": {
        "id": "t-kr7qcplzU_"
      }
    },
    {
      "cell_type": "code",
      "source": [
        "X_train = data.drop(columns=['Label'])\n",
        "y_train = data['Label']"
      ],
      "metadata": {
        "execution": {
          "iopub.status.busy": "2024-01-01T08:37:38.375275Z",
          "iopub.execute_input": "2024-01-01T08:37:38.375557Z",
          "iopub.status.idle": "2024-01-01T08:37:38.912213Z",
          "shell.execute_reply.started": "2024-01-01T08:37:38.375534Z",
          "shell.execute_reply": "2024-01-01T08:37:38.911135Z"
        },
        "trusted": true,
        "id": "8WVy4HJEibZI"
      },
      "execution_count": 12,
      "outputs": []
    },
    {
      "cell_type": "code",
      "source": [
        "X_train = X_train.to_numpy()\n",
        "X_train = X_train / np.linalg.norm(X_train)"
      ],
      "metadata": {
        "execution": {
          "iopub.status.busy": "2024-01-01T08:37:38.957918Z",
          "iopub.execute_input": "2024-01-01T08:37:38.958539Z",
          "iopub.status.idle": "2024-01-01T08:37:39.598859Z",
          "shell.execute_reply.started": "2024-01-01T08:37:38.958503Z",
          "shell.execute_reply": "2024-01-01T08:37:39.597952Z"
        },
        "trusted": true,
        "id": "EYyREJCIibZL"
      },
      "execution_count": 13,
      "outputs": []
    },
    {
      "cell_type": "code",
      "source": [
        "label_encoder = LabelEncoder()\n",
        "y_train = label_encoder.fit_transform(y_train)"
      ],
      "metadata": {
        "id": "fNjpMaDsizuL"
      },
      "execution_count": 14,
      "outputs": []
    },
    {
      "cell_type": "markdown",
      "source": [
        "## Testing set"
      ],
      "metadata": {
        "id": "n1N5yDrRl5t4"
      }
    },
    {
      "cell_type": "code",
      "source": [
        "X_test = data_test.drop(columns=['Label'])\n",
        "y_test = data_test['Label']"
      ],
      "metadata": {
        "id": "XvdiwDkEl76n"
      },
      "execution_count": 15,
      "outputs": []
    },
    {
      "cell_type": "code",
      "source": [
        "X_test = X_test.to_numpy()\n",
        "X_test = X_test / np.linalg.norm(X_test)"
      ],
      "metadata": {
        "id": "EXI6ldOTl_3K"
      },
      "execution_count": 16,
      "outputs": []
    },
    {
      "cell_type": "code",
      "source": [
        "y_test = label_encoder.transform(y_test)"
      ],
      "metadata": {
        "id": "uLPXZT_1mBmg"
      },
      "execution_count": 17,
      "outputs": []
    },
    {
      "cell_type": "markdown",
      "source": [
        "# GridSearch for RFC"
      ],
      "metadata": {
        "id": "7iYNlrZSibZQ"
      }
    },
    {
      "cell_type": "code",
      "source": [
        "RFC_parameters = {\n",
        "    'n_estimators': [100, 150, 200],\n",
        "    'max_depth': [5, 10, 20, 50, 100, 200, 500, 1000],\n",
        "    'max_features': ['sqrt', 'log2', 50, 100, 200]\n",
        "}"
      ],
      "metadata": {
        "execution": {
          "iopub.status.busy": "2024-01-01T08:39:26.907120Z",
          "iopub.execute_input": "2024-01-01T08:39:26.908199Z",
          "iopub.status.idle": "2024-01-01T08:39:26.914056Z",
          "shell.execute_reply.started": "2024-01-01T08:39:26.908156Z",
          "shell.execute_reply": "2024-01-01T08:39:26.912993Z"
        },
        "trusted": true,
        "id": "HoLL65qJibZR"
      },
      "execution_count": 18,
      "outputs": []
    },
    {
      "cell_type": "code",
      "source": [
        "RFC = RandomForestClassifier(n_jobs=-1, verbose=1)"
      ],
      "metadata": {
        "execution": {
          "iopub.status.busy": "2024-01-01T08:39:26.918908Z",
          "iopub.execute_input": "2024-01-01T08:39:26.919199Z",
          "iopub.status.idle": "2024-01-01T08:39:26.924032Z",
          "shell.execute_reply.started": "2024-01-01T08:39:26.919174Z",
          "shell.execute_reply": "2024-01-01T08:39:26.923039Z"
        },
        "trusted": true,
        "id": "nUfjtj2DibZS"
      },
      "execution_count": 22,
      "outputs": []
    },
    {
      "cell_type": "code",
      "source": [
        "RFC_GridSearch = GridSearchCV(RFC, RFC_parameters, cv=5)"
      ],
      "metadata": {
        "execution": {
          "iopub.status.busy": "2024-01-01T08:39:26.929376Z",
          "iopub.execute_input": "2024-01-01T08:39:26.929823Z",
          "iopub.status.idle": "2024-01-01T08:39:26.934296Z",
          "shell.execute_reply.started": "2024-01-01T08:39:26.929789Z",
          "shell.execute_reply": "2024-01-01T08:39:26.933279Z"
        },
        "trusted": true,
        "id": "AutYYBsMibZS"
      },
      "execution_count": 29,
      "outputs": []
    },
    {
      "cell_type": "markdown",
      "source": [
        "# GridSearch for KNN"
      ],
      "metadata": {
        "id": "0l7WadHAibZS"
      }
    },
    {
      "cell_type": "code",
      "source": [
        "KNN_parameters = {\n",
        "    'n_neighbors': [2, 3, 4, 5, 6],\n",
        "    \"weights\": ['uniform','distance'],\n",
        "    \"p\": [1,2,3]\n",
        "}"
      ],
      "metadata": {
        "execution": {
          "iopub.status.busy": "2024-01-01T08:39:26.946536Z",
          "iopub.execute_input": "2024-01-01T08:39:26.946907Z",
          "iopub.status.idle": "2024-01-01T08:39:26.953535Z",
          "shell.execute_reply.started": "2024-01-01T08:39:26.946872Z",
          "shell.execute_reply": "2024-01-01T08:39:26.952415Z"
        },
        "trusted": true,
        "id": "XxSDlJ-uibZT"
      },
      "execution_count": 32,
      "outputs": []
    },
    {
      "cell_type": "code",
      "source": [
        "KNN = KNeighborsClassifier(n_jobs=-1)"
      ],
      "metadata": {
        "execution": {
          "iopub.status.busy": "2024-01-01T08:39:26.955188Z",
          "iopub.execute_input": "2024-01-01T08:39:26.955525Z",
          "iopub.status.idle": "2024-01-01T08:39:26.961771Z",
          "shell.execute_reply.started": "2024-01-01T08:39:26.955497Z",
          "shell.execute_reply": "2024-01-01T08:39:26.960868Z"
        },
        "trusted": true,
        "id": "9mJClHwQibZU"
      },
      "execution_count": 33,
      "outputs": []
    },
    {
      "cell_type": "code",
      "source": [
        "KNN_GridSearch = GridSearchCV(KNN, KNN_parameters, cv=5, verbose=100)"
      ],
      "metadata": {
        "execution": {
          "iopub.status.busy": "2024-01-01T08:39:26.962950Z",
          "iopub.execute_input": "2024-01-01T08:39:26.963226Z",
          "iopub.status.idle": "2024-01-01T08:39:26.970853Z",
          "shell.execute_reply.started": "2024-01-01T08:39:26.963201Z",
          "shell.execute_reply": "2024-01-01T08:39:26.969835Z"
        },
        "trusted": true,
        "id": "V-wo6JAfibZU"
      },
      "execution_count": 34,
      "outputs": []
    },
    {
      "cell_type": "code",
      "source": [
        "KNN_GridSearch.fit(X_train, y_train)"
      ],
      "metadata": {
        "id": "WX7oIO_TruPN"
      },
      "execution_count": null,
      "outputs": []
    },
    {
      "cell_type": "markdown",
      "source": [
        "# GridSearch for SGD Classifier"
      ],
      "metadata": {
        "id": "jr6-8QNKibZV"
      }
    },
    {
      "cell_type": "code",
      "source": [
        "SGD_parameters = {\n",
        "    \"max_iter\": [2000],\n",
        "    \"eta0\": [0.001, 0.003, 0.005, 0.0005],\n",
        "    \"random_state\": [0, 1, 123, 42],\n",
        "    \"penalty\": ['l2','l1'],\n",
        "    'n_jobs': [-1],\n",
        "    'learning_rate': ['optimal', 'adaptive'],\n",
        "    'early_stopping': [True],\n",
        "    'validation_fraction': [0.2]\n",
        "}"
      ],
      "metadata": {
        "execution": {
          "iopub.status.busy": "2024-01-01T08:39:26.980939Z",
          "iopub.execute_input": "2024-01-01T08:39:26.981233Z",
          "iopub.status.idle": "2024-01-01T08:39:26.988964Z",
          "shell.execute_reply.started": "2024-01-01T08:39:26.981209Z",
          "shell.execute_reply": "2024-01-01T08:39:26.987992Z"
        },
        "trusted": true,
        "id": "43POkb0XibZV"
      },
      "execution_count": null,
      "outputs": []
    },
    {
      "cell_type": "code",
      "source": [
        "SGD_Classifier = SGDClassifier()"
      ],
      "metadata": {
        "execution": {
          "iopub.status.busy": "2024-01-01T08:39:26.991153Z",
          "iopub.execute_input": "2024-01-01T08:39:26.991610Z",
          "iopub.status.idle": "2024-01-01T08:39:26.997584Z",
          "shell.execute_reply.started": "2024-01-01T08:39:26.991574Z",
          "shell.execute_reply": "2024-01-01T08:39:26.996617Z"
        },
        "trusted": true,
        "id": "QRGltyaXibZW"
      },
      "execution_count": null,
      "outputs": []
    },
    {
      "cell_type": "code",
      "source": [
        "SGD_GridSearch = GridSearchCV(SGD_Classifier, SGD_parameters, cv=5)"
      ],
      "metadata": {
        "execution": {
          "iopub.status.busy": "2024-01-01T08:39:27.093232Z",
          "iopub.execute_input": "2024-01-01T08:39:27.093689Z",
          "iopub.status.idle": "2024-01-01T08:39:27.098033Z",
          "shell.execute_reply.started": "2024-01-01T08:39:27.093659Z",
          "shell.execute_reply": "2024-01-01T08:39:27.097007Z"
        },
        "trusted": true,
        "id": "I-UHNBCPibZW"
      },
      "execution_count": null,
      "outputs": []
    },
    {
      "cell_type": "markdown",
      "source": [
        "# Voting Classifier"
      ],
      "metadata": {
        "id": "490Jqr4sibZW"
      }
    },
    {
      "cell_type": "code",
      "source": [
        "RFC_GridSearch.fit(X_train, y_train)\n",
        "KNN_GridSearch.fit(X_train, y_train)\n",
        "SGD_GridSearch.fit(X_train, y_train)"
      ],
      "metadata": {
        "execution": {
          "iopub.status.busy": "2024-01-01T08:39:27.107496Z",
          "iopub.execute_input": "2024-01-01T08:39:27.107962Z"
        },
        "trusted": true,
        "id": "QVa-YjjVibZW"
      },
      "execution_count": null,
      "outputs": []
    },
    {
      "cell_type": "code",
      "source": [
        "best_RFC_estimator = RFC_GridSearch.best_estimator_\n",
        "best_KNN_estimator = KNN_GridSearch.best_estimator_\n",
        "best_SGD_estimator = SGD_GridSearch.best_estimator_"
      ],
      "metadata": {
        "trusted": true,
        "id": "maG7KwiFibZX"
      },
      "execution_count": null,
      "outputs": []
    },
    {
      "cell_type": "code",
      "source": [
        "clf = VotingClassifier(estimators=[('RFC', best_RFC_estimator),\n",
        "                                   ('KNN', best_KNN_estimator)\n",
        "                                   ('SGD', best_SGD_estimator)],\n",
        "                       voting='soft')"
      ],
      "metadata": {
        "trusted": true,
        "id": "YKDLNPnGibZY"
      },
      "execution_count": null,
      "outputs": []
    },
    {
      "cell_type": "code",
      "source": [
        "clf.fit(X_train, y_train)"
      ],
      "metadata": {
        "trusted": true,
        "id": "elNy3k7GibZY"
      },
      "execution_count": null,
      "outputs": []
    }
  ]
}